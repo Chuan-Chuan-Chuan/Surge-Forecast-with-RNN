{
 "cells": [
  {
   "cell_type": "code",
   "execution_count": null,
   "metadata": {
    "collapsed": false
   },
   "outputs": [],
   "source": [
    "from __future__ import division, print_function, absolute_import\n",
    "\n",
    "import sqlite3\n",
    "import tflearn as tf\n",
    "import numpy as np\n",
    "import pandas as pd\n",
    "import matplotlib.pyplot as plt\n",
    "%matplotlib inline"
   ]
  },
  {
   "cell_type": "code",
   "execution_count": null,
   "metadata": {
    "collapsed": false
   },
   "outputs": [],
   "source": [
    "conn = sqlite3.connect('surge_data.db')\n",
    "c = conn.cursor()\n",
    "\n",
    "point_list = [0, 1, 2, 3, 14, 15, 16, 12, 13, 24, 25, 26, 27, 28, 17, 29]\n",
    "\n",
    "sql_output = np.array([np.array(pd.read_sql('''WITH a AS (SELECT surge\n",
    "                                               FROM surge\n",
    "                                               WHERE point = {} \n",
    "                                               ORDER BY date\n",
    "                                               LIMIT 31184)\n",
    "                                               SELECT *\n",
    "                                               FROM a'''.format(point), conn)).T for point in point_list])[:,0,:].T\n",
    "\n",
    "# this gets run when I'm done working for the session\n",
    "conn.close()"
   ]
  },
  {
   "cell_type": "code",
   "execution_count": null,
   "metadata": {
    "collapsed": false
   },
   "outputs": [],
   "source": [
    "steps_of_history = 30\n",
    "steps_in_future = 5\n",
    "\n",
    "y = sql_output[steps_of_history+steps_in_future-1:,:]\n",
    "X = sql_output[:len(y),:]\n",
    "my_x = np.empty([len(y),steps_of_history,16])\n",
    "\n",
    "for i, _ in enumerate(X):\n",
    "    time_chunk = X[i:i+steps_of_history,:]\n",
    "    if time_chunk.shape == (steps_of_history, 16):\n",
    "        my_x[i,:,:] = time_chunk\n",
    "    else:\n",
    "        my_x[i,:,:] = np.ones((steps_of_history,16))\n",
    "\n",
    "trainX, testX = my_x[:-1000,:], my_x[-1000:,:]\n",
    "trainY, testY = y[:-1000,:], y[-1000:,:]"
   ]
  },
  {
   "cell_type": "code",
   "execution_count": null,
   "metadata": {
    "collapsed": false
   },
   "outputs": [],
   "source": [
    "# Build my neural net\n",
    "net = tf.input_data(shape=[None, steps_of_history, 16])\n",
    "net = tf.lstm(net, n_units=128, activation='softsign', return_seq=False)\n",
    "net = tf.fully_connected(net, 16, activation='linear')\n",
    "net = tf.regression(net, optimizer='sgd', loss='mean_square', learning_rate=0.3)\n",
    "\n",
    "# Define model\n",
    "model = tf.DNN(net, clip_gradients=0.0, tensorboard_verbose=0)"
   ]
  },
  {
   "cell_type": "code",
   "execution_count": null,
   "metadata": {
    "collapsed": false,
    "scrolled": false
   },
   "outputs": [],
   "source": [
    "# Training\n",
    "# model.fit(trainX, trainY, n_epoch=25, validation_set=0.1, batch_size=128)"
   ]
  },
  {
   "cell_type": "code",
   "execution_count": null,
   "metadata": {
    "collapsed": true
   },
   "outputs": [],
   "source": [
    "# Manually save model\n",
    "# model.save(\"saved_model/150_epoch_act_softsign_nunits_128.tfl\")"
   ]
  },
  {
   "cell_type": "code",
   "execution_count": null,
   "metadata": {
    "collapsed": false
   },
   "outputs": [],
   "source": [
    "# Load a model\n",
    "model.load(\"saved_model/150_epoch_act_softsign_nunits_128.tfl\")"
   ]
  },
  {
   "cell_type": "code",
   "execution_count": null,
   "metadata": {
    "collapsed": true
   },
   "outputs": [],
   "source": [
    "predictY = np.array(model.predict(testX))"
   ]
  },
  {
   "cell_type": "code",
   "execution_count": null,
   "metadata": {
    "collapsed": true
   },
   "outputs": [],
   "source": [
    "# when the model forecasts that the surge will be LESS than 1 I correct it to say it is 1\n",
    "corrected_predictions = np.zeros(predictY.shape)\n",
    "\n",
    "for i, time in enumerate(predictY):\n",
    "    for j, point in enumerate(time):\n",
    "        if point <=1.04:\n",
    "            corrected_predictions[i,j] = 1.0\n",
    "        else:\n",
    "            corrected_predictions[i,j] = point"
   ]
  },
  {
   "cell_type": "code",
   "execution_count": null,
   "metadata": {
    "collapsed": false
   },
   "outputs": [],
   "source": [
    "np.mean((predictY - testY)**2), np.mean((corrected_predictions - testY)**2)"
   ]
  },
  {
   "cell_type": "code",
   "execution_count": null,
   "metadata": {
    "collapsed": true
   },
   "outputs": [],
   "source": [
    "predictY = corrected_predictions"
   ]
  },
  {
   "cell_type": "code",
   "execution_count": null,
   "metadata": {
    "collapsed": true
   },
   "outputs": [],
   "source": [
    "def graph_em(test, forecast, graph_name):\n",
    "    subs = {0:811, 1:812, 2:813, 3:814, 4:815, 5:816, 6:817, 7:818}\n",
    "    plt.figure(figsize=(20,25))\n",
    "    for i, point in enumerate(test.T):\n",
    "        plt.subplot(subs[i])\n",
    "        plt.title('History='+str(steps_of_history)+', Future='+str(steps_in_future))\n",
    "        plt.plot(point, 'k-', label='Actual')\n",
    "        plt.plot(forecast[:,i], 'c-', label='Forecast')\n",
    "        plt.legend()\n",
    "        \n",
    "#     plt.savefig(graph_name, bbox_inches='tight', dpi=300)\n",
    "    plt.show()"
   ]
  },
  {
   "cell_type": "code",
   "execution_count": null,
   "metadata": {
    "collapsed": false
   },
   "outputs": [],
   "source": [
    "graph_em(testY[:,:8], predictY[:,:8], 'forecast_1.png')"
   ]
  },
  {
   "cell_type": "code",
   "execution_count": null,
   "metadata": {
    "collapsed": false
   },
   "outputs": [],
   "source": [
    "graph_em(testY[:,8:], predictY[:,8:], 'forecast_2.png')"
   ]
  },
  {
   "cell_type": "code",
   "execution_count": null,
   "metadata": {
    "collapsed": true
   },
   "outputs": [],
   "source": []
  }
 ],
 "metadata": {
  "kernelspec": {
   "display_name": "Python 2",
   "language": "python",
   "name": "python2"
  },
  "language_info": {
   "codemirror_mode": {
    "name": "ipython",
    "version": 2
   },
   "file_extension": ".py",
   "mimetype": "text/x-python",
   "name": "python",
   "nbconvert_exporter": "python",
   "pygments_lexer": "ipython2",
   "version": "2.7.11"
  },
  "widgets": {
   "state": {},
   "version": "1.1.2"
  }
 },
 "nbformat": 4,
 "nbformat_minor": 0
}

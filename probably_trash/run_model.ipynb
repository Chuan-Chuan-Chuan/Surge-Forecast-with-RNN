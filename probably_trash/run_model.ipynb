{
 "cells": [
  {
   "cell_type": "code",
   "execution_count": null,
   "metadata": {
    "collapsed": false
   },
   "outputs": [],
   "source": [
    "%matplotlib inline\n",
    "import numpy as np\n",
    "import pandas as pd\n",
    "import tensorflow as tf\n",
    "from matplotlib import pyplot as plt\n",
    "from tensorflow.contrib import learn\n",
    "from sklearn.metrics import mean_squared_error\n",
    "from lstm import lstm_model, prepare_and_split_data\n",
    "from tensorflow.python.framework import dtypes\n",
    "from tensorflow.contrib import learn"
   ]
  },
  {
   "cell_type": "code",
   "execution_count": null,
   "metadata": {
    "collapsed": true
   },
   "outputs": [],
   "source": [
    "import tflearn"
   ]
  },
  {
   "cell_type": "code",
   "execution_count": null,
   "metadata": {
    "collapsed": false
   },
   "outputs": [],
   "source": []
  },
  {
   "cell_type": "code",
   "execution_count": null,
   "metadata": {
    "collapsed": true
   },
   "outputs": [],
   "source": []
  },
  {
   "cell_type": "code",
   "execution_count": null,
   "metadata": {
    "collapsed": true
   },
   "outputs": [],
   "source": []
  },
  {
   "cell_type": "code",
   "execution_count": null,
   "metadata": {
    "collapsed": true
   },
   "outputs": [],
   "source": []
  },
  {
   "cell_type": "code",
   "execution_count": null,
   "metadata": {
    "collapsed": true
   },
   "outputs": [],
   "source": [
    "# LOG_DIR = './ops_logs/all_points_model'\n",
    "# TIMESTEPS = 5\n",
    "# RNN_LAYERS = [{'num_units': 40}, {'num_units': 20}]\n",
    "# DENSE_LAYERS = [10]\n",
    "# TRAINING_STEPS = 10000\n",
    "# PRINT_STEPS = TRAINING_STEPS / 10\n",
    "# BATCH_SIZE = 100\n",
    "\n",
    "LOG_DIR = './ops_logs'\n",
    "TIMESTEPS = 10\n",
    "RNN_LAYERS = [{'num_units': TIMESTEPS}]\n",
    "DENSE_LAYERS = [10, 10]\n",
    "TRAINING_STEPS = 100000\n",
    "BATCH_SIZE = 100\n",
    "PRINT_STEPS = TRAINING_STEPS / 100"
   ]
  },
  {
   "cell_type": "code",
   "execution_count": null,
   "metadata": {
    "collapsed": false
   },
   "outputs": [],
   "source": [
    "X, y = prepare_and_split_data(pd.read_csv('mydata.csv'), TIMESTEPS)"
   ]
  },
  {
   "cell_type": "code",
   "execution_count": null,
   "metadata": {
    "collapsed": true
   },
   "outputs": [],
   "source": [
    "regressor = learn.Estimator(model_fn=lstm_model(TIMESTEPS, RNN_LAYERS, DENSE_LAYERS), model_dir=LOG_DIR)"
   ]
  },
  {
   "cell_type": "code",
   "execution_count": null,
   "metadata": {
    "collapsed": true
   },
   "outputs": [],
   "source": [
    "# create a lstm instance and validation monitor\n",
    "validation_monitor = learn.monitors.ValidationMonitor(X['val'], y['val'],every_n_steps=PRINT_STEPS,\n",
    "                                                                                          early_stopping_rounds=1000)\n",
    "regressor.fit(X['train'], y['train'], monitors=[validation_monitor], batch_size=BATCH_SIZE, steps=TRAINING_STEPS)"
   ]
  },
  {
   "cell_type": "code",
   "execution_count": null,
   "metadata": {
    "collapsed": true
   },
   "outputs": [],
   "source": [
    "predicted = regressor.predict(X['test'])\n",
    "corrected_predictions = np.zeros(predicted.shape)\n",
    "\n",
    "for i, time in enumerate(predicted):\n",
    "    for j, point in enumerate(time):\n",
    "        if point <=1.05:\n",
    "            corrected_predictions[i,j] = 1.0\n",
    "        else:\n",
    "            corrected_predictions[i,j] = point"
   ]
  },
  {
   "cell_type": "code",
   "execution_count": null,
   "metadata": {
    "collapsed": false,
    "scrolled": true
   },
   "outputs": [],
   "source": [
    "new_score = mean_squared_error(corrected_predictions, np.nan_to_num(y['test']))\n",
    "print (\"NEW MSE: %f\" % new_score)"
   ]
  },
  {
   "cell_type": "markdown",
   "metadata": {
    "collapsed": true
   },
   "source": [
    "# plotting graphs below here"
   ]
  },
  {
   "cell_type": "code",
   "execution_count": null,
   "metadata": {
    "collapsed": false
   },
   "outputs": [],
   "source": [
    "#[0, 1, 2, 3, 14, 15, 16, 12, 13\n",
    "plt.figure(figsize=(20,40))\n",
    "\n",
    "plt.subplot(911)\n",
    "plt.plot(corrected_predictions[:,0][600:1000],label='5 min forecast')\n",
    "plt.plot(np.nan_to_num(y['test'])[:,0][600:1000],label='true 0')\n",
    "plt.legend()\n",
    "\n",
    "plt.subplot(912)\n",
    "plt.plot(corrected_predictions[:,1][600:1000],label='5 min forecast')\n",
    "plt.plot(np.nan_to_num(y['test'])[:,1][600:1000],label='true 1')\n",
    "plt.legend()\n",
    "\n",
    "plt.subplot(913)\n",
    "plt.plot(corrected_predictions[:,2][600:1000],label='5 min forecast')\n",
    "plt.plot(np.nan_to_num(y['test'])[:,2][600:1000],label='true 2')\n",
    "plt.legend()\n",
    "\n",
    "plt.subplot(914)\n",
    "plt.plot(corrected_predictions[:,3][600:1000],label='5 min forecast')\n",
    "plt.plot(np.nan_to_num(y['test'])[:,3][600:1000],label='true 3')\n",
    "plt.legend()\n",
    "\n",
    "plt.subplot(915)\n",
    "plt.plot(corrected_predictions[:,4][600:1000],label='5 min forecast')\n",
    "plt.plot(np.nan_to_num(y['test'])[:,4][600:1000],label='true 14')\n",
    "plt.legend()\n",
    "\n",
    "plt.subplot(916)\n",
    "plt.plot(corrected_predictions[:,5][600:1000],label='5 min forecast')\n",
    "plt.plot(np.nan_to_num(y['test'])[:,5][600:1000],label='true 15')\n",
    "plt.legend()\n",
    "\n",
    "plt.subplot(917)\n",
    "plt.plot(corrected_predictions[:,6][600:1000],label='5 min forecast')\n",
    "plt.plot(np.nan_to_num(y['test'])[:,6][600:1000],label='true 16')\n",
    "plt.legend()\n",
    "\n",
    "plt.subplot(918)\n",
    "plt.plot(corrected_predictions[:,7][600:1000],label='5 min forecast')\n",
    "plt.plot(np.nan_to_num(y['test'])[:,7][600:1000],label='true 12')\n",
    "plt.legend()\n",
    "\n",
    "plt.subplot(919)\n",
    "plt.plot(corrected_predictions[:,8][600:1000],label='5 min forecast')\n",
    "plt.plot(np.nan_to_num(y['test'])[:,8][600:1000],label='true 13')\n",
    "plt.legend()\n",
    "\n",
    "plt.show()"
   ]
  },
  {
   "cell_type": "code",
   "execution_count": null,
   "metadata": {
    "collapsed": false
   },
   "outputs": [],
   "source": [
    "# , 24, 25, 26, 27, 28, 17, 29]\n",
    "plt.figure(figsize=(20,30))\n",
    "\n",
    "plt.subplot(711)\n",
    "plt.plot(corrected_predictions[:,9][600:1000],label='5 min forecast')\n",
    "plt.plot(np.nan_to_num(y['test'])[:,9][600:1000],label='true 24')\n",
    "plt.legend()\n",
    "\n",
    "plt.subplot(712)\n",
    "plt.plot(corrected_predictions[:,10][600:1000],label='5 min forecast')\n",
    "plt.plot(np.nan_to_num(y['test'])[:,10][600:1000],label='true 25')\n",
    "plt.legend()\n",
    "\n",
    "plt.subplot(713)\n",
    "plt.plot(corrected_predictions[:,11][600:1000],label='5 min forecast')\n",
    "plt.plot(np.nan_to_num(y['test'])[:,11][600:1000],label='true 26')\n",
    "plt.legend()\n",
    "\n",
    "plt.subplot(714)\n",
    "plt.plot(corrected_predictions[:,12][600:1000],label='5 min forecast')\n",
    "plt.plot(np.nan_to_num(y['test'])[:,12][600:1000],label='true 27')\n",
    "plt.legend()\n",
    "\n",
    "plt.subplot(715)\n",
    "plt.plot(corrected_predictions[:,13][600:1000],label='5 min forecast')\n",
    "plt.plot(np.nan_to_num(y['test'])[:,13][600:1000],label='true 28')\n",
    "plt.legend()\n",
    "\n",
    "plt.subplot(716)\n",
    "plt.plot(corrected_predictions[:,14][600:1000],label='5 min forecast')\n",
    "plt.plot(np.nan_to_num(y['test'])[:,14][600:1000],label='true 17')\n",
    "plt.legend()\n",
    "\n",
    "plt.subplot(717)\n",
    "plt.plot(corrected_predictions[:,15][600:1000],label='5 min forecast')\n",
    "plt.plot(np.nan_to_num(y['test'])[:,15][600:1000],label='true 29')\n",
    "plt.legend()\n",
    "\n",
    "plt.show()"
   ]
  },
  {
   "cell_type": "code",
   "execution_count": null,
   "metadata": {
    "collapsed": true
   },
   "outputs": [],
   "source": []
  }
 ],
 "metadata": {
  "kernelspec": {
   "display_name": "Python 2",
   "language": "python",
   "name": "python2"
  },
  "language_info": {
   "codemirror_mode": {
    "name": "ipython",
    "version": 2
   },
   "file_extension": ".py",
   "mimetype": "text/x-python",
   "name": "python",
   "nbconvert_exporter": "python",
   "pygments_lexer": "ipython2",
   "version": "2.7.11"
  },
  "widgets": {
   "state": {},
   "version": "1.1.2"
  }
 },
 "nbformat": 4,
 "nbformat_minor": 0
}

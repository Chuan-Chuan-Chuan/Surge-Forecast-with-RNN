{
 "cells": [
  {
   "cell_type": "code",
   "execution_count": null,
   "metadata": {
    "collapsed": false
   },
   "outputs": [],
   "source": [
    "from __future__ import division, print_function, absolute_import\n",
    "\n",
    "import sqlite3\n",
    "import tflearn as tf\n",
    "import numpy as np\n",
    "import pandas as pd\n",
    "import matplotlib.pyplot as plt\n",
    "%matplotlib inline"
   ]
  },
  {
   "cell_type": "code",
   "execution_count": null,
   "metadata": {
    "collapsed": false
   },
   "outputs": [],
   "source": [
    "conn = sqlite3.connect('surge_data.db')\n",
    "c = conn.cursor()"
   ]
  },
  {
   "cell_type": "code",
   "execution_count": null,
   "metadata": {
    "collapsed": true
   },
   "outputs": [],
   "source": [
    "# this gets run when I'm done working for the session\n",
    "# conn.close()"
   ]
  },
  {
   "cell_type": "code",
   "execution_count": null,
   "metadata": {
    "collapsed": false
   },
   "outputs": [],
   "source": [
    "for row in c.execute('SELECT * FROM surge'):\n",
    "    print (row)\n",
    "    break"
   ]
  },
  {
   "cell_type": "code",
   "execution_count": null,
   "metadata": {
    "collapsed": true
   },
   "outputs": [],
   "source": [
    "def build_dataframes_for_points(df):\n",
    "    \"\"\"\n",
    "    makes different dataframes that only have data from one surge point\n",
    "    \"\"\"\n",
    "    point_list = [0, 1, 2, 3, 14, 15, 16, 12, 13, 24, 25, 26, 27, 28, 17, 29]\n",
    "    return [df[df.point == point].reset_index(drop=True)[:31184] for point in point_list]\n",
    "\n",
    "# df_0,df_1,df_2,df_3,df_14,df_15,df_16,df_12,df_13,df_24,df_25,df_26,\\\n",
    "#                                                         df_27,df_28,df_17,df_29 = build_dataframes_for_points(df)\n",
    "sin_cos = np.array([np.array(d_f.surge) for d_f in build_dataframes_for_points(df)]).T"
   ]
  },
  {
   "cell_type": "code",
   "execution_count": null,
   "metadata": {
    "collapsed": false
   },
   "outputs": [],
   "source": [
    "steps_of_history = 20\n",
    "steps_in_future = 3\n",
    "\n",
    "y = sin_cos[steps_of_history+steps_in_future-1:,:]\n",
    "X = sin_cos[:len(y),:]\n",
    "my_x = np.empty([len(y),steps_of_history,16])\n",
    "\n",
    "for i, _ in enumerate(X):\n",
    "    time_chunk = X[i:i+steps_of_history,:]\n",
    "    if time_chunk.shape == (steps_of_history, 16):\n",
    "        my_x[i,:,:] = time_chunk\n",
    "    else:\n",
    "        my_x[i,:,:] = np.ones((steps_of_history,16))\n",
    "\n",
    "trainX, testX = my_x[:-1000,:], my_x[-1000:,:]\n",
    "trainY, testY = y[:-1000,:], y[-1000:,:]"
   ]
  },
  {
   "cell_type": "code",
   "execution_count": null,
   "metadata": {
    "collapsed": false
   },
   "outputs": [],
   "source": [
    "# Build my neural net\n",
    "net = tf.input_data(shape=[None, steps_of_history, 16])\n",
    "net = tf.lstm(net, 256, return_seq=False)\n",
    "net = tf.dropout(net, 0.5)\n",
    "\n",
    "# net = tflearn.lstm(net, 128, return_seq=False)\n",
    "# net = tflearn.dropout(net, 0.5)\n",
    "\n",
    "net = tf.fully_connected(net, 16, activation='linear')\n",
    "net = tf.regression(net, optimizer='sgd', loss='mean_square', learning_rate=0.3)"
   ]
  },
  {
   "cell_type": "code",
   "execution_count": null,
   "metadata": {
    "collapsed": false
   },
   "outputs": [],
   "source": [
    "# Training\n",
    "model = tf.DNN(net, clip_gradients=0.0, tensorboard_verbose=0)\n",
    "model.fit(trainX, trainY, n_epoch=30, validation_set=0.1, batch_size=128)\n",
    "\n",
    "predictY = np.array(model.predict(testX))"
   ]
  },
  {
   "cell_type": "code",
   "execution_count": null,
   "metadata": {
    "collapsed": true
   },
   "outputs": [],
   "source": [
    "corrected_predictions = np.zeros(predictY.shape)\n",
    "\n",
    "for i, time in enumerate(predictY):\n",
    "    for j, point in enumerate(time):\n",
    "        if point <=1.05:\n",
    "            corrected_predictions[i,j] = 1.0\n",
    "        else:\n",
    "            corrected_predictions[i,j] = point"
   ]
  },
  {
   "cell_type": "code",
   "execution_count": null,
   "metadata": {
    "collapsed": false
   },
   "outputs": [],
   "source": [
    "np.mean((predictY - testY)**2), np.mean((corrected_predictions - testY)**2)"
   ]
  },
  {
   "cell_type": "code",
   "execution_count": null,
   "metadata": {
    "collapsed": true
   },
   "outputs": [],
   "source": [
    "predictY = corrected_predictions"
   ]
  },
  {
   "cell_type": "code",
   "execution_count": null,
   "metadata": {
    "collapsed": false
   },
   "outputs": [],
   "source": [
    "# Plot the results\n",
    "plt.figure(figsize=(20,25))\n",
    "\n",
    "plt.subplot(811)\n",
    "plt.title('History='+str(steps_of_history)+', Future='+str(steps_in_future))\n",
    "plt.plot(testY[:,0], 'k-', label='Actual')\n",
    "plt.plot(predictY[:,0], 'c-', label='Forecast')\n",
    "plt.legend()\n",
    "\n",
    "plt.subplot(812)\n",
    "plt.title('History='+str(steps_of_history)+', Future='+str(steps_in_future))\n",
    "plt.plot(testY[:,1], 'k-', label='Actual')\n",
    "plt.plot(predictY[:,1], 'c-', label='Predicted')\n",
    "plt.legend()\n",
    "\n",
    "plt.subplot(813)\n",
    "plt.title('History='+str(steps_of_history)+', Future='+str(steps_in_future))\n",
    "plt.plot(testY[:,2], 'k-', label='Actual')\n",
    "plt.plot(predictY[:,2], 'c-', label='Forecast')\n",
    "plt.legend()\n",
    "\n",
    "plt.subplot(814)\n",
    "plt.title('History='+str(steps_of_history)+', Future='+str(steps_in_future))\n",
    "plt.plot(testY[:,3], 'k-', label='Actual')\n",
    "plt.plot(predictY[:,3], 'c-', label='Predicted')\n",
    "plt.legend()\n",
    "\n",
    "plt.subplot(815)\n",
    "plt.title('History='+str(steps_of_history)+', Future='+str(steps_in_future))\n",
    "plt.plot(testY[:,4], 'k-', label='Actual')\n",
    "plt.plot(predictY[:,4], 'c-', label='Forecast')\n",
    "plt.legend()\n",
    "\n",
    "plt.subplot(816)\n",
    "plt.title('History='+str(steps_of_history)+', Future='+str(steps_in_future))\n",
    "plt.plot(testY[:,5], 'k-', label='Actual')\n",
    "plt.plot(predictY[:,5], 'c-', label='Predicted')\n",
    "plt.legend()\n",
    "\n",
    "plt.subplot(817)\n",
    "plt.title('History='+str(steps_of_history)+', Future='+str(steps_in_future))\n",
    "plt.plot(testY[:,6], 'k-', label='Actual')\n",
    "plt.plot(predictY[:,6], 'c-', label='Forecast')\n",
    "plt.legend()\n",
    "\n",
    "plt.subplot(818)\n",
    "plt.title('History='+str(steps_of_history)+', Future='+str(steps_in_future))\n",
    "plt.plot(testY[:,7], 'k-', label='Actual')\n",
    "plt.plot(predictY[:,7], 'c-', label='Predicted')\n",
    "plt.legend()\n",
    "\n",
    "plt.show()"
   ]
  },
  {
   "cell_type": "code",
   "execution_count": null,
   "metadata": {
    "collapsed": false
   },
   "outputs": [],
   "source": [
    "# Plot the results\n",
    "plt.figure(figsize=(20,25))\n",
    "\n",
    "plt.subplot(811)\n",
    "plt.title('History='+str(steps_of_history)+', Future='+str(steps_in_future))\n",
    "plt.plot(testY[:,8], 'k-', label='Actual')\n",
    "plt.plot(predictY[:,8], 'c-', label='Forecast')\n",
    "plt.legend()\n",
    "\n",
    "plt.subplot(812)\n",
    "plt.title('History='+str(steps_of_history)+', Future='+str(steps_in_future))\n",
    "plt.plot(testY[:,9], 'k-', label='Actual')\n",
    "plt.plot(predictY[:,9], 'c-', label='Predicted')\n",
    "plt.legend()\n",
    "\n",
    "plt.subplot(813)\n",
    "plt.title('History='+str(steps_of_history)+', Future='+str(steps_in_future))\n",
    "plt.plot(testY[:,10], 'k-', label='Actual')\n",
    "plt.plot(predictY[:,10], 'c-', label='Forecast')\n",
    "plt.legend()\n",
    "\n",
    "plt.subplot(814)\n",
    "plt.title('History='+str(steps_of_history)+', Future='+str(steps_in_future))\n",
    "plt.plot(testY[:,11], 'k-', label='Actual')\n",
    "plt.plot(predictY[:,11], 'c-', label='Predicted')\n",
    "plt.legend()\n",
    "\n",
    "plt.subplot(815)\n",
    "plt.title('History='+str(steps_of_history)+', Future='+str(steps_in_future))\n",
    "plt.plot(testY[:,12], 'k-', label='Actual')\n",
    "plt.plot(predictY[:,12], 'c-', label='Forecast')\n",
    "plt.legend()\n",
    "\n",
    "plt.subplot(816)\n",
    "plt.title('History='+str(steps_of_history)+', Future='+str(steps_in_future))\n",
    "plt.plot(testY[:,13], 'k-', label='Actual')\n",
    "plt.plot(predictY[:,13], 'c-', label='Predicted')\n",
    "plt.legend()\n",
    "\n",
    "plt.subplot(817)\n",
    "plt.title('History='+str(steps_of_history)+', Future='+str(steps_in_future))\n",
    "plt.plot(testY[:,14], 'k-', label='Actual')\n",
    "plt.plot(predictY[:,14], 'c-', label='Forecast')\n",
    "plt.legend()\n",
    "\n",
    "plt.subplot(818)\n",
    "plt.title('History='+str(steps_of_history)+', Future='+str(steps_in_future))\n",
    "plt.plot(testY[:,15], 'k-', label='Actual')\n",
    "plt.plot(predictY[:,15], 'c-', label='Predicted')\n",
    "plt.legend()\n",
    "\n",
    "plt.show()"
   ]
  },
  {
   "cell_type": "code",
   "execution_count": null,
   "metadata": {
    "collapsed": true
   },
   "outputs": [],
   "source": []
  }
 ],
 "metadata": {
  "kernelspec": {
   "display_name": "Python 2",
   "language": "python",
   "name": "python2"
  },
  "language_info": {
   "codemirror_mode": {
    "name": "ipython",
    "version": 2
   },
   "file_extension": ".py",
   "mimetype": "text/x-python",
   "name": "python",
   "nbconvert_exporter": "python",
   "pygments_lexer": "ipython2",
   "version": "2.7.11"
  },
  "widgets": {
   "state": {},
   "version": "1.1.2"
  }
 },
 "nbformat": 4,
 "nbformat_minor": 0
}

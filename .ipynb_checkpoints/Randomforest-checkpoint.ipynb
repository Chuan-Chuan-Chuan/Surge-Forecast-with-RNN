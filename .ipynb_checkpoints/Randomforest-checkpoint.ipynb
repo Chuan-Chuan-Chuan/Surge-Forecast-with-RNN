{
 "cells": [
  {
   "cell_type": "code",
   "execution_count": null,
   "metadata": {
    "collapsed": false
   },
   "outputs": [],
   "source": [
    "import pandas as pd\n",
    "import numpy as np\n",
    "import matplotlib.pyplot as plt\n",
    "from sklearn.ensemble import RandomForestRegressor,ExtraTreesRegressor,GradientBoostingRegressor,AdaBoostRegressor\n",
    "from sklearn.linear_model import LinearRegression,Ridge,Lasso\n",
    "from grid_search_helper import EstimatorSelectionHelper\n",
    "from prepare_data import prepare_data\n",
    "%matplotlib inline"
   ]
  },
  {
   "cell_type": "code",
   "execution_count": null,
   "metadata": {
    "collapsed": false
   },
   "outputs": [],
   "source": [
    "df = pd.read_csv('mydata.csv')\n",
    "data_prep = prepare_data(df)\n",
    "data_prep.build_dataframes_for_points()\n",
    "data_prep.time_series_to_regression()"
   ]
  },
  {
   "cell_type": "code",
   "execution_count": null,
   "metadata": {
    "collapsed": false
   },
   "outputs": [],
   "source": [
    "# X_0 = data_prep.get_point_data('point_0')['X']\n",
    "# y_0 = data_prep.get_point_data('point_0')['y']\n",
    "\n",
    "# X_0_hold_out = data_prep.get_point_data('point_0')['X_hold_out']\n",
    "# y_0_hold_out = data_prep.get_point_data('point_0')['y_hold_out']\n",
    "\n",
    "# X_train = data_prep.get_point_data('point_0')['X_train']\n",
    "# X_test = data_prep.get_point_data('point_0')['X_test']\n",
    "\n",
    "# y_train = data_prep.get_point_data('point_0')['y_train']\n",
    "# y_test = data_prep.get_point_data('point_0')['y_test']"
   ]
  },
  {
   "cell_type": "code",
   "execution_count": null,
   "metadata": {
    "collapsed": true
   },
   "outputs": [],
   "source": []
  },
  {
   "cell_type": "code",
   "execution_count": null,
   "metadata": {
    "collapsed": false
   },
   "outputs": [],
   "source": [
    "models_dict = {}\n",
    "for key, value in data_prep.get_point_data().iteritems():\n",
    "    models_dict[key] = ExtraTreesRegressor(n_estimators=128).fit(value['X_train'], value['y_train'])"
   ]
  },
  {
   "cell_type": "code",
   "execution_count": null,
   "metadata": {
    "collapsed": false
   },
   "outputs": [],
   "source": [
    "predict_dict = {}\n",
    "for key, value in models_dict.iteritems():\n",
    "    predict_dict[key] = value.predict()"
   ]
  },
  {
   "cell_type": "code",
   "execution_count": null,
   "metadata": {
    "collapsed": true
   },
   "outputs": [],
   "source": []
  },
  {
   "cell_type": "code",
   "execution_count": null,
   "metadata": {
    "collapsed": false
   },
   "outputs": [],
   "source": [
    "ex_trees = ExtraTreesRegressor(n_estimators=128)\n",
    "ex_trees.fit(X_train, y_train)"
   ]
  },
  {
   "cell_type": "code",
   "execution_count": null,
   "metadata": {
    "collapsed": false
   },
   "outputs": [],
   "source": [
    "'Extra Trees:',np.mean((ex_trees.predict(X_test) - y_test) ** 2)\n",
    "#  0.014418507785463306"
   ]
  },
  {
   "cell_type": "code",
   "execution_count": null,
   "metadata": {
    "collapsed": false
   },
   "outputs": [],
   "source": [
    "plt.figure(figsize=(20,5))\n",
    "plt.plot(ex_trees.predict(X_0_hold_out)[:300],label='3 min forecast')\n",
    "plt.plot(y_0_hold_out[:300],label='true 0')\n",
    "plt.legend()\n",
    "plt.show()"
   ]
  },
  {
   "cell_type": "markdown",
   "metadata": {},
   "source": [
    "# doing grid searches"
   ]
  },
  {
   "cell_type": "code",
   "execution_count": null,
   "metadata": {
    "collapsed": false
   },
   "outputs": [],
   "source": [
    "'''\n",
    "These are the models I used grid search cross validation on. I import a class called EstimatorSelectionHelper that\n",
    "runs through all of the different models their parameters and fits everyone using all possible combinations of\n",
    "parameters. It then prints out a summary of the results ordered by best performing model from the grid search in\n",
    "a pandas dataframe.\n",
    "'''\n",
    "\n",
    "models1 = {'LinearRegression':LinearRegression(),\n",
    "           'Ridge':Ridge(),\n",
    "           'Lasso':Lasso(),\n",
    "           'ExtraTreesRegressor':ExtraTreesRegressor(),\n",
    "           'RandomForestRegressor':RandomForestRegressor(),\n",
    "           'AdaBoostRegressor':AdaBoostRegressor(),\n",
    "           'GradientBoostingRegressor':GradientBoostingRegressor()}\n",
    "\n",
    "params1 = {'LinearRegression':{},\n",
    "           'Ridge':{'alpha':[0.001, 0.01, 0.1, 1.0]},\n",
    "           'Lasso':{'alpha':[0.001, 0.01, 0.1, 1.0]},\n",
    "           'ExtraTreesRegressor':{'n_estimators':[8,16,32,64,128]},\n",
    "           'RandomForestRegressor':{'n_estimators':[8,16,32,64,128]},\n",
    "           'AdaBoostRegressor':{'n_estimators':[8,16,32,64,128],'learning_rate':[0.6,0.8,1.0]},\n",
    "           'GradientBoostingRegressor':{'n_estimators':[8,16,32,64,128],'learning_rate':[0.6,0.8,1.0]}}"
   ]
  },
  {
   "cell_type": "code",
   "execution_count": null,
   "metadata": {
    "collapsed": false
   },
   "outputs": [],
   "source": [
    "helper1 = EstimatorSelectionHelper(models1, params1)\n",
    "helper1.fit(X_train, y_train, n_jobs=-1)"
   ]
  },
  {
   "cell_type": "code",
   "execution_count": null,
   "metadata": {
    "collapsed": false
   },
   "outputs": [],
   "source": [
    "helper1.score_summary(sort_by='min_score')"
   ]
  },
  {
   "cell_type": "code",
   "execution_count": null,
   "metadata": {
    "collapsed": true
   },
   "outputs": [],
   "source": []
  }
 ],
 "metadata": {
  "kernelspec": {
   "display_name": "Python 2",
   "language": "python",
   "name": "python2"
  },
  "language_info": {
   "codemirror_mode": {
    "name": "ipython",
    "version": 2
   },
   "file_extension": ".py",
   "mimetype": "text/x-python",
   "name": "python",
   "nbconvert_exporter": "python",
   "pygments_lexer": "ipython2",
   "version": "2.7.11"
  },
  "widgets": {
   "state": {},
   "version": "1.1.2"
  }
 },
 "nbformat": 4,
 "nbformat_minor": 0
}
